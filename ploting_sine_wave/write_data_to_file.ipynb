{
 "cells": [
  {
   "cell_type": "code",
   "execution_count": 30,
   "metadata": {},
   "outputs": [],
   "source": [
    "import numpy as np\n",
    "import matplotlib.pyplot as plt"
   ]
  },
  {
   "cell_type": "code",
   "execution_count": 31,
   "metadata": {},
   "outputs": [],
   "source": [
    "degree = np.arange(0,361)"
   ]
  },
  {
   "cell_type": "code",
   "execution_count": 32,
   "metadata": {},
   "outputs": [],
   "source": [
    "#b=(a*np.pi)/180\n",
    "amplitude=np.deg2rad(degree)\n",
    "amplitude=np.sin(amplitude)\n"
   ]
  },
  {
   "cell_type": "code",
   "execution_count": 33,
   "metadata": {},
   "outputs": [
    {
     "data": {
      "text/plain": [
       "array([  0,   1,   2,   3,   4,   5,   6,   7,   8,   9,  10,  11,  12,\n",
       "        13,  14,  15,  16,  17,  18,  19,  20,  21,  22,  23,  24,  25,\n",
       "        26,  27,  28,  29,  30,  31,  32,  33,  34,  35,  36,  37,  38,\n",
       "        39,  40,  41,  42,  43,  44,  45,  46,  47,  48,  49,  50,  51,\n",
       "        52,  53,  54,  55,  56,  57,  58,  59,  60,  61,  62,  63,  64,\n",
       "        65,  66,  67,  68,  69,  70,  71,  72,  73,  74,  75,  76,  77,\n",
       "        78,  79,  80,  81,  82,  83,  84,  85,  86,  87,  88,  89,  90,\n",
       "        91,  92,  93,  94,  95,  96,  97,  98,  99, 100, 101, 102, 103,\n",
       "       104, 105, 106, 107, 108, 109, 110, 111, 112, 113, 114, 115, 116,\n",
       "       117, 118, 119, 120, 121, 122, 123, 124, 125, 126, 127, 128, 129,\n",
       "       130, 131, 132, 133, 134, 135, 136, 137, 138, 139, 140, 141, 142,\n",
       "       143, 144, 145, 146, 147, 148, 149, 150, 151, 152, 153, 154, 155,\n",
       "       156, 157, 158, 159, 160, 161, 162, 163, 164, 165, 166, 167, 168,\n",
       "       169, 170, 171, 172, 173, 174, 175, 176, 177, 178, 179, 180, 181,\n",
       "       182, 183, 184, 185, 186, 187, 188, 189, 190, 191, 192, 193, 194,\n",
       "       195, 196, 197, 198, 199, 200, 201, 202, 203, 204, 205, 206, 207,\n",
       "       208, 209, 210, 211, 212, 213, 214, 215, 216, 217, 218, 219, 220,\n",
       "       221, 222, 223, 224, 225, 226, 227, 228, 229, 230, 231, 232, 233,\n",
       "       234, 235, 236, 237, 238, 239, 240, 241, 242, 243, 244, 245, 246,\n",
       "       247, 248, 249, 250, 251, 252, 253, 254, 255, 256, 257, 258, 259,\n",
       "       260, 261, 262, 263, 264, 265, 266, 267, 268, 269, 270, 271, 272,\n",
       "       273, 274, 275, 276, 277, 278, 279, 280, 281, 282, 283, 284, 285,\n",
       "       286, 287, 288, 289, 290, 291, 292, 293, 294, 295, 296, 297, 298,\n",
       "       299, 300, 301, 302, 303, 304, 305, 306, 307, 308, 309, 310, 311,\n",
       "       312, 313, 314, 315, 316, 317, 318, 319, 320, 321, 322, 323, 324,\n",
       "       325, 326, 327, 328, 329, 330, 331, 332, 333, 334, 335, 336, 337,\n",
       "       338, 339, 340, 341, 342, 343, 344, 345, 346, 347, 348, 349, 350,\n",
       "       351, 352, 353, 354, 355, 356, 357, 358, 359, 360])"
      ]
     },
     "execution_count": 33,
     "metadata": {},
     "output_type": "execute_result"
    }
   ],
   "source": [
    "degree"
   ]
  },
  {
   "cell_type": "code",
   "execution_count": 34,
   "metadata": {},
   "outputs": [
    {
     "data": {
      "text/plain": [
       "array([ 0.00000000e+00,  1.74524064e-02,  3.48994967e-02,  5.23359562e-02,\n",
       "        6.97564737e-02,  8.71557427e-02,  1.04528463e-01,  1.21869343e-01,\n",
       "        1.39173101e-01,  1.56434465e-01,  1.73648178e-01,  1.90808995e-01,\n",
       "        2.07911691e-01,  2.24951054e-01,  2.41921896e-01,  2.58819045e-01,\n",
       "        2.75637356e-01,  2.92371705e-01,  3.09016994e-01,  3.25568154e-01,\n",
       "        3.42020143e-01,  3.58367950e-01,  3.74606593e-01,  3.90731128e-01,\n",
       "        4.06736643e-01,  4.22618262e-01,  4.38371147e-01,  4.53990500e-01,\n",
       "        4.69471563e-01,  4.84809620e-01,  5.00000000e-01,  5.15038075e-01,\n",
       "        5.29919264e-01,  5.44639035e-01,  5.59192903e-01,  5.73576436e-01,\n",
       "        5.87785252e-01,  6.01815023e-01,  6.15661475e-01,  6.29320391e-01,\n",
       "        6.42787610e-01,  6.56059029e-01,  6.69130606e-01,  6.81998360e-01,\n",
       "        6.94658370e-01,  7.07106781e-01,  7.19339800e-01,  7.31353702e-01,\n",
       "        7.43144825e-01,  7.54709580e-01,  7.66044443e-01,  7.77145961e-01,\n",
       "        7.88010754e-01,  7.98635510e-01,  8.09016994e-01,  8.19152044e-01,\n",
       "        8.29037573e-01,  8.38670568e-01,  8.48048096e-01,  8.57167301e-01,\n",
       "        8.66025404e-01,  8.74619707e-01,  8.82947593e-01,  8.91006524e-01,\n",
       "        8.98794046e-01,  9.06307787e-01,  9.13545458e-01,  9.20504853e-01,\n",
       "        9.27183855e-01,  9.33580426e-01,  9.39692621e-01,  9.45518576e-01,\n",
       "        9.51056516e-01,  9.56304756e-01,  9.61261696e-01,  9.65925826e-01,\n",
       "        9.70295726e-01,  9.74370065e-01,  9.78147601e-01,  9.81627183e-01,\n",
       "        9.84807753e-01,  9.87688341e-01,  9.90268069e-01,  9.92546152e-01,\n",
       "        9.94521895e-01,  9.96194698e-01,  9.97564050e-01,  9.98629535e-01,\n",
       "        9.99390827e-01,  9.99847695e-01,  1.00000000e+00,  9.99847695e-01,\n",
       "        9.99390827e-01,  9.98629535e-01,  9.97564050e-01,  9.96194698e-01,\n",
       "        9.94521895e-01,  9.92546152e-01,  9.90268069e-01,  9.87688341e-01,\n",
       "        9.84807753e-01,  9.81627183e-01,  9.78147601e-01,  9.74370065e-01,\n",
       "        9.70295726e-01,  9.65925826e-01,  9.61261696e-01,  9.56304756e-01,\n",
       "        9.51056516e-01,  9.45518576e-01,  9.39692621e-01,  9.33580426e-01,\n",
       "        9.27183855e-01,  9.20504853e-01,  9.13545458e-01,  9.06307787e-01,\n",
       "        8.98794046e-01,  8.91006524e-01,  8.82947593e-01,  8.74619707e-01,\n",
       "        8.66025404e-01,  8.57167301e-01,  8.48048096e-01,  8.38670568e-01,\n",
       "        8.29037573e-01,  8.19152044e-01,  8.09016994e-01,  7.98635510e-01,\n",
       "        7.88010754e-01,  7.77145961e-01,  7.66044443e-01,  7.54709580e-01,\n",
       "        7.43144825e-01,  7.31353702e-01,  7.19339800e-01,  7.07106781e-01,\n",
       "        6.94658370e-01,  6.81998360e-01,  6.69130606e-01,  6.56059029e-01,\n",
       "        6.42787610e-01,  6.29320391e-01,  6.15661475e-01,  6.01815023e-01,\n",
       "        5.87785252e-01,  5.73576436e-01,  5.59192903e-01,  5.44639035e-01,\n",
       "        5.29919264e-01,  5.15038075e-01,  5.00000000e-01,  4.84809620e-01,\n",
       "        4.69471563e-01,  4.53990500e-01,  4.38371147e-01,  4.22618262e-01,\n",
       "        4.06736643e-01,  3.90731128e-01,  3.74606593e-01,  3.58367950e-01,\n",
       "        3.42020143e-01,  3.25568154e-01,  3.09016994e-01,  2.92371705e-01,\n",
       "        2.75637356e-01,  2.58819045e-01,  2.41921896e-01,  2.24951054e-01,\n",
       "        2.07911691e-01,  1.90808995e-01,  1.73648178e-01,  1.56434465e-01,\n",
       "        1.39173101e-01,  1.21869343e-01,  1.04528463e-01,  8.71557427e-02,\n",
       "        6.97564737e-02,  5.23359562e-02,  3.48994967e-02,  1.74524064e-02,\n",
       "        1.22464680e-16, -1.74524064e-02, -3.48994967e-02, -5.23359562e-02,\n",
       "       -6.97564737e-02, -8.71557427e-02, -1.04528463e-01, -1.21869343e-01,\n",
       "       -1.39173101e-01, -1.56434465e-01, -1.73648178e-01, -1.90808995e-01,\n",
       "       -2.07911691e-01, -2.24951054e-01, -2.41921896e-01, -2.58819045e-01,\n",
       "       -2.75637356e-01, -2.92371705e-01, -3.09016994e-01, -3.25568154e-01,\n",
       "       -3.42020143e-01, -3.58367950e-01, -3.74606593e-01, -3.90731128e-01,\n",
       "       -4.06736643e-01, -4.22618262e-01, -4.38371147e-01, -4.53990500e-01,\n",
       "       -4.69471563e-01, -4.84809620e-01, -5.00000000e-01, -5.15038075e-01,\n",
       "       -5.29919264e-01, -5.44639035e-01, -5.59192903e-01, -5.73576436e-01,\n",
       "       -5.87785252e-01, -6.01815023e-01, -6.15661475e-01, -6.29320391e-01,\n",
       "       -6.42787610e-01, -6.56059029e-01, -6.69130606e-01, -6.81998360e-01,\n",
       "       -6.94658370e-01, -7.07106781e-01, -7.19339800e-01, -7.31353702e-01,\n",
       "       -7.43144825e-01, -7.54709580e-01, -7.66044443e-01, -7.77145961e-01,\n",
       "       -7.88010754e-01, -7.98635510e-01, -8.09016994e-01, -8.19152044e-01,\n",
       "       -8.29037573e-01, -8.38670568e-01, -8.48048096e-01, -8.57167301e-01,\n",
       "       -8.66025404e-01, -8.74619707e-01, -8.82947593e-01, -8.91006524e-01,\n",
       "       -8.98794046e-01, -9.06307787e-01, -9.13545458e-01, -9.20504853e-01,\n",
       "       -9.27183855e-01, -9.33580426e-01, -9.39692621e-01, -9.45518576e-01,\n",
       "       -9.51056516e-01, -9.56304756e-01, -9.61261696e-01, -9.65925826e-01,\n",
       "       -9.70295726e-01, -9.74370065e-01, -9.78147601e-01, -9.81627183e-01,\n",
       "       -9.84807753e-01, -9.87688341e-01, -9.90268069e-01, -9.92546152e-01,\n",
       "       -9.94521895e-01, -9.96194698e-01, -9.97564050e-01, -9.98629535e-01,\n",
       "       -9.99390827e-01, -9.99847695e-01, -1.00000000e+00, -9.99847695e-01,\n",
       "       -9.99390827e-01, -9.98629535e-01, -9.97564050e-01, -9.96194698e-01,\n",
       "       -9.94521895e-01, -9.92546152e-01, -9.90268069e-01, -9.87688341e-01,\n",
       "       -9.84807753e-01, -9.81627183e-01, -9.78147601e-01, -9.74370065e-01,\n",
       "       -9.70295726e-01, -9.65925826e-01, -9.61261696e-01, -9.56304756e-01,\n",
       "       -9.51056516e-01, -9.45518576e-01, -9.39692621e-01, -9.33580426e-01,\n",
       "       -9.27183855e-01, -9.20504853e-01, -9.13545458e-01, -9.06307787e-01,\n",
       "       -8.98794046e-01, -8.91006524e-01, -8.82947593e-01, -8.74619707e-01,\n",
       "       -8.66025404e-01, -8.57167301e-01, -8.48048096e-01, -8.38670568e-01,\n",
       "       -8.29037573e-01, -8.19152044e-01, -8.09016994e-01, -7.98635510e-01,\n",
       "       -7.88010754e-01, -7.77145961e-01, -7.66044443e-01, -7.54709580e-01,\n",
       "       -7.43144825e-01, -7.31353702e-01, -7.19339800e-01, -7.07106781e-01,\n",
       "       -6.94658370e-01, -6.81998360e-01, -6.69130606e-01, -6.56059029e-01,\n",
       "       -6.42787610e-01, -6.29320391e-01, -6.15661475e-01, -6.01815023e-01,\n",
       "       -5.87785252e-01, -5.73576436e-01, -5.59192903e-01, -5.44639035e-01,\n",
       "       -5.29919264e-01, -5.15038075e-01, -5.00000000e-01, -4.84809620e-01,\n",
       "       -4.69471563e-01, -4.53990500e-01, -4.38371147e-01, -4.22618262e-01,\n",
       "       -4.06736643e-01, -3.90731128e-01, -3.74606593e-01, -3.58367950e-01,\n",
       "       -3.42020143e-01, -3.25568154e-01, -3.09016994e-01, -2.92371705e-01,\n",
       "       -2.75637356e-01, -2.58819045e-01, -2.41921896e-01, -2.24951054e-01,\n",
       "       -2.07911691e-01, -1.90808995e-01, -1.73648178e-01, -1.56434465e-01,\n",
       "       -1.39173101e-01, -1.21869343e-01, -1.04528463e-01, -8.71557427e-02,\n",
       "       -6.97564737e-02, -5.23359562e-02, -3.48994967e-02, -1.74524064e-02,\n",
       "       -2.44929360e-16])"
      ]
     },
     "execution_count": 34,
     "metadata": {},
     "output_type": "execute_result"
    }
   ],
   "source": [
    "amplitude"
   ]
  },
  {
   "cell_type": "code",
   "execution_count": 28,
   "metadata": {},
   "outputs": [],
   "source": []
  },
  {
   "cell_type": "code",
   "execution_count": 40,
   "metadata": {},
   "outputs": [
    {
     "data": {
      "text/plain": [
       "[<matplotlib.lines.Line2D at 0x196f6e0d490>]"
      ]
     },
     "execution_count": 40,
     "metadata": {},
     "output_type": "execute_result"
    },
    {
     "data": {
      "image/png": "[encoded data removed]",
      "text/plain": [
       "<Figure size 432x288 with 1 Axes>"
      ]
     },
     "metadata": {
      "needs_background": "light"
     },
     "output_type": "display_data"
    }
   ],
   "source": [
    "plt.xlabel('Degree')\n",
    "plt.ylabel('Amplitude')\n",
    "plt.grid()\n",
    "plt.plot(degree,amplitude)"
   ]
  },
  {
   "cell_type": "code",
   "execution_count": 39,
   "metadata": {},
   "outputs": [],
   "source": [
    "with open('data_files/degree_vs_amplitude.txt','a') as file:\n",
    "    for i in range(0,361):\n",
    "        file.write(f'Degree :{degree[i]} Amplitude : {amplitude[i]}')\n",
    "        file.write('\\n')"
   ]
  },
  {
   "cell_type": "code",
   "execution_count": null,
   "metadata": {},
   "outputs": [],
   "source": []
  }
 ],
 "metadata": {
  "interpreter": {
   "hash": "9eef0c0e7c2c8ee33128e1287f51e88f9b68ef03f5fb044f9e3295e774d371e1"
  },
  "kernelspec": {
   "display_name": "Python 3.8.12 ('Development')",
   "language": "python",
   "name": "python3"
  },
  "language_info": {
   "codemirror_mode": {
    "name": "ipython",
    "version": 3
   },
   "file_extension": ".py",
   "mimetype": "text/x-python",
   "name": "python",
   "nbconvert_exporter": "python",
   "pygments_lexer": "ipython3",
   "version": "3.8.12"
  },
  "orig_nbformat": 4
 },
 "nbformat": 4,
 "nbformat_minor": 2
}
